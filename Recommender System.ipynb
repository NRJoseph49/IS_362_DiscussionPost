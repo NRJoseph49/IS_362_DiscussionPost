{
 "cells": [
  {
   "cell_type": "markdown",
   "metadata": {},
   "source": [
    "<img src=\"twitter.jpg\"\n",
    "     alt=\"Twitter Logo\"\n",
    "     style=\"float:left; height:6em; width:auto;\" />  \n",
    "     \n",
    "# Recommender System - Twitter"
   ]
  },
  {
   "cell_type": "markdown",
   "metadata": {},
   "source": [
    "- Twitter is a social information network where short messages or tweets are shared among a large number of users through a very simple messaging mechanism.\n",
    "\n"
   ]
  },
  {
   "cell_type": "markdown",
   "metadata": {},
   "source": [
    "### Scenario Design Analysis"
   ]
  },
  {
   "attachments": {},
   "cell_type": "markdown",
   "metadata": {},
   "source": [
    "#### 1. Who are the targeted users?  \n",
    "- Twitter targets users seeking to find entertainment, deploy information, and network. Twitter users generate over 320 million tweets every day, making it one of the quickest platform for deployment of information.\n",
    "#### 2. What are the key goals?  \n",
    "- The user's goal is to find out what is taking place around the globe, to share information instantly, and to connect with other business and users all over the world.  \n",
    "- Twitter aims to connect users who know each other and those who don't based on similar interests.\n",
    "\n",
    "#### 3. How can you help them accomplish those goals? \n",
    "\n",
    "#### Reverse Engineering\n",
    "##### -  Keyword Recommendation\n",
    "- The platform should focus on using phrases and words in users' tweets to connect them with what users searching for similar keywords. \n",
    "\n",
    "<img src=\"rec.png\"\n",
    "     alt=\"Recommendations\"\n",
    "     style=\"height:30em; width:auto;\"\n",
    "      />  \n",
    "\n",
    "##### -  Followee Recommendation\n",
    "- Twitter has a who to follow feature in the and Connect and Discover pages,user profile pages, and home page. Recommendations should be based on followees who are similar to the existing followees of the target user, and followees of those followees. When a user visits another user's profile, users who share similar interests to the visited profile are recommended.\n"
   ]
  },
  {
   "cell_type": "markdown",
   "metadata": {},
   "source": []
  }
 ],
 "metadata": {
  "kernelspec": {
   "display_name": "Python 3",
   "language": "python",
   "name": "python3"
  },
  "language_info": {
   "codemirror_mode": {
    "name": "ipython",
    "version": 3
   },
   "file_extension": ".py",
   "mimetype": "text/x-python",
   "name": "python",
   "nbconvert_exporter": "python",
   "pygments_lexer": "ipython3",
   "version": "3.7.4"
  }
 },
 "nbformat": 4,
 "nbformat_minor": 2
}
